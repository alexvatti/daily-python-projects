{
 "cells": [
  {
   "cell_type": "markdown",
   "id": "4f32235e",
   "metadata": {},
   "source": [
    "# Calculate the Area of a Circle with Python"
   ]
  },
  {
   "cell_type": "markdown",
   "id": "f088c046",
   "metadata": {},
   "source": [
    "## Project Description\n",
    "- Your task for today is to create a Python program that calculates the area of a circle."
   ]
  },
  {
   "cell_type": "code",
   "execution_count": 34,
   "id": "093451f6",
   "metadata": {},
   "outputs": [
    {
     "name": "stdout",
     "output_type": "stream",
     "text": [
      "Enter radius of circle : 22\n",
      "The area of the circle with radius 22 is 1521.1\n"
     ]
    }
   ],
   "source": [
    "def area_circle(radius):\n",
    "    '''Python program that calculates the area of a circle.'''\n",
    "    return ((22/7)*pow(radius,2))\n",
    "\n",
    "r = eval(input(\"Enter radius of circle : \"))\n",
    "print(f\"The area of the circle with radius {r} is {area_circle(r):.1f}\")\n"
   ]
  }
 ],
 "metadata": {
  "kernelspec": {
   "display_name": "Python 3 (ipykernel)",
   "language": "python",
   "name": "python3"
  },
  "language_info": {
   "codemirror_mode": {
    "name": "ipython",
    "version": 3
   },
   "file_extension": ".py",
   "mimetype": "text/x-python",
   "name": "python",
   "nbconvert_exporter": "python",
   "pygments_lexer": "ipython3",
   "version": "3.11.5"
  }
 },
 "nbformat": 4,
 "nbformat_minor": 5
}
