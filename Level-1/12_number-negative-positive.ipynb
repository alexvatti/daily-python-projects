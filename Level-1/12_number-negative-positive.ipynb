{
 "cells": [
  {
   "cell_type": "markdown",
   "id": "4f32235e",
   "metadata": {},
   "source": [
    "# number is negative or positive"
   ]
  },
  {
   "cell_type": "markdown",
   "id": "f088c046",
   "metadata": {},
   "source": [
    "## Project Description\n",
    "This program asks the user to input a number and checks whether it is positive, negative, or zero."
   ]
  },
  {
   "cell_type": "code",
   "execution_count": 29,
   "id": "093451f6",
   "metadata": {},
   "outputs": [
    {
     "name": "stdout",
     "output_type": "stream",
     "text": [
      "Enter a  number : 100\n",
      "Number : 100 is positive\n"
     ]
    }
   ],
   "source": [
    "def check_sign_number(num):\n",
    "    '''checks whether it is positive, negative, or zero'''\n",
    "    if num > 0:\n",
    "        print(f\"Number : {num} is positive\")\n",
    "    elif num ==0:\n",
    "        print(f\"Number : {num} is zero\")   \n",
    "    else:\n",
    "        print(f\"Number : {num} is Negative\")\n",
    "    \n",
    "n = int(input(\"Enter a  number : \"))\n",
    "check_sign_number(n)\n"
   ]
  }
 ],
 "metadata": {
  "kernelspec": {
   "display_name": "Python 3 (ipykernel)",
   "language": "python",
   "name": "python3"
  },
  "language_info": {
   "codemirror_mode": {
    "name": "ipython",
    "version": 3
   },
   "file_extension": ".py",
   "mimetype": "text/x-python",
   "name": "python",
   "nbconvert_exporter": "python",
   "pygments_lexer": "ipython3",
   "version": "3.11.5"
  }
 },
 "nbformat": 4,
 "nbformat_minor": 5
}
