{
 "cells": [
  {
   "cell_type": "markdown",
   "id": "b58630f9",
   "metadata": {},
   "source": [
    "# Simple Dice Rolling Simulator"
   ]
  },
  {
   "cell_type": "markdown",
   "id": "2423148f",
   "metadata": {},
   "source": [
    "## Project Description\n",
    "- This project simulates a dice roll by generating a random number between 1 and 6. \n",
    "- Each time the program runs, it \"rolls the dice\" and displays the result. \n",
    "- This project introduces students to working with random numbers and basic output formatting."
   ]
  },
  {
   "cell_type": "code",
   "execution_count": 77,
   "id": "634ceb45",
   "metadata": {},
   "outputs": [
    {
     "name": "stdout",
     "output_type": "stream",
     "text": [
      "You rolled at : 2\n"
     ]
    }
   ],
   "source": [
    "def rolling_dice():\n",
    "    '''rolls the dice and displays the result.'''\n",
    "    import random\n",
    "    \n",
    "    print(f\"You rolled at : {random.randint(1,6)}\")\n",
    "\n",
    "rolling_dice()"
   ]
  }
 ],
 "metadata": {
  "kernelspec": {
   "display_name": "Python 3 (ipykernel)",
   "language": "python",
   "name": "python3"
  },
  "language_info": {
   "codemirror_mode": {
    "name": "ipython",
    "version": 3
   },
   "file_extension": ".py",
   "mimetype": "text/x-python",
   "name": "python",
   "nbconvert_exporter": "python",
   "pygments_lexer": "ipython3",
   "version": "3.11.5"
  }
 },
 "nbformat": 4,
 "nbformat_minor": 5
}
