{
 "cells": [
  {
   "cell_type": "markdown",
   "id": "4f32235e",
   "metadata": {},
   "source": [
    "# Calculate the Average of Numbers Submitted by the User"
   ]
  },
  {
   "cell_type": "markdown",
   "id": "f088c046",
   "metadata": {},
   "source": [
    "## Project Description\n",
    "- Create a program that lets the user submit three numbers and returns the average of those numbers."
   ]
  },
  {
   "cell_type": "code",
   "execution_count": 66,
   "id": "093451f6",
   "metadata": {},
   "outputs": [
    {
     "name": "stdout",
     "output_type": "stream",
     "text": [
      "enter a number : 3\n",
      "enter a number : 4\n",
      "enter a number : 5\n",
      "The average of numbers is :  4.0\n"
     ]
    }
   ],
   "source": [
    "def avg_number(a,b,c):\n",
    "    '''avg of given numbers'''\n",
    "    return (a+b+c)/3\n",
    "    \n",
    "num1 = int(input(\"enter a number : \"))\n",
    "num2 = int(input(\"enter a number : \"))\n",
    "num3 = int(input(\"enter a number : \"))\n",
    "print(f\"The average of numbers is :  {avg_number(num1,num2,num3)}\")"
   ]
  }
 ],
 "metadata": {
  "kernelspec": {
   "display_name": "Python 3 (ipykernel)",
   "language": "python",
   "name": "python3"
  },
  "language_info": {
   "codemirror_mode": {
    "name": "ipython",
    "version": 3
   },
   "file_extension": ".py",
   "mimetype": "text/x-python",
   "name": "python",
   "nbconvert_exporter": "python",
   "pygments_lexer": "ipython3",
   "version": "3.11.5"
  }
 },
 "nbformat": 4,
 "nbformat_minor": 5
}
