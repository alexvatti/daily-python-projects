{
 "cells": [
  {
   "cell_type": "markdown",
   "id": "4f32235e",
   "metadata": {},
   "source": [
    "# find the maximum of three numbers"
   ]
  },
  {
   "cell_type": "markdown",
   "id": "f088c046",
   "metadata": {},
   "source": [
    "## Project Description\n",
    "- This program defines three numbers and determines which one is the largest. It then displays the largest number."
   ]
  },
  {
   "cell_type": "code",
   "execution_count": 17,
   "id": "093451f6",
   "metadata": {},
   "outputs": [
    {
     "name": "stdout",
     "output_type": "stream",
     "text": [
      "enter a number : 30\n",
      "enter a number : 20\n",
      "enter a number : 30\n",
      "The largest number is :  30\n"
     ]
    }
   ],
   "source": [
    "def largest_number(a,b,c):\n",
    "    '''largest among three numbers'''\n",
    "    if a>=b and a>c:\n",
    "        return a\n",
    "    elif b>a and b>c:\n",
    "        return b\n",
    "    else:\n",
    "        return c\n",
    "    \n",
    "num1 = int(input(\"enter a number : \"))\n",
    "num2 = int(input(\"enter a number : \"))\n",
    "num3 = int(input(\"enter a number : \"))\n",
    "print(f\"The largest number is :  {largest_number(num1,num2,num3)}\")"
   ]
  }
 ],
 "metadata": {
  "kernelspec": {
   "display_name": "Python 3 (ipykernel)",
   "language": "python",
   "name": "python3"
  },
  "language_info": {
   "codemirror_mode": {
    "name": "ipython",
    "version": 3
   },
   "file_extension": ".py",
   "mimetype": "text/x-python",
   "name": "python",
   "nbconvert_exporter": "python",
   "pygments_lexer": "ipython3",
   "version": "3.11.5"
  }
 },
 "nbformat": 4,
 "nbformat_minor": 5
}
