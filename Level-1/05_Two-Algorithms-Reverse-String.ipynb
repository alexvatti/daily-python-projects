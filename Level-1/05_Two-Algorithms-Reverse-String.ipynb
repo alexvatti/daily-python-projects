{
 "cells": [
  {
   "cell_type": "markdown",
   "id": "e23a8b5f",
   "metadata": {},
   "source": [
    "# Two Algorithms to Reverse a String"
   ]
  },
  {
   "cell_type": "markdown",
   "id": "d719b11c",
   "metadata": {},
   "source": [
    "## Project Description\n",
    "- Your task for today is to write some code that reverses any string. \n",
    "- There are two fundamentally different ways to accomplish this, one using a for-loop and another using string slicing. \n",
    "- If you can, write both solutions."
   ]
  },
  {
   "cell_type": "code",
   "execution_count": 84,
   "id": "28c408fb",
   "metadata": {},
   "outputs": [
    {
     "name": "stdout",
     "output_type": "stream",
     "text": [
      "The Reversed string is : !nuf si nohtyP\n"
     ]
    }
   ],
   "source": [
    "def reverse_string_using_for_loop(txt):\n",
    "    '''reverses any string using for loop.'''\n",
    "    rev_str = \"\"\n",
    "    for i in range(len(txt)):\n",
    "        rev_str += txt[-1-i]\n",
    "    print(f\"The Reversed string is : {rev_str}\")\n",
    "        \n",
    "text = \"Python is fun!\"\n",
    "reverse_string_using_for_loop(text)"
   ]
  },
  {
   "cell_type": "code",
   "execution_count": 82,
   "id": "c15bdddc",
   "metadata": {},
   "outputs": [
    {
     "name": "stdout",
     "output_type": "stream",
     "text": [
      "The Reversed string is : !nuf si nohtyP\n"
     ]
    }
   ],
   "source": [
    "def reverse_string_using_slice(txt):\n",
    "    '''reverses any string using slice.'''\n",
    "    print(f\"The Reversed string is : {txt[::-1]}\")\n",
    "        \n",
    "text = \"Python is fun!\"\n",
    "reverse_string_using_slice(text)"
   ]
  }
 ],
 "metadata": {
  "kernelspec": {
   "display_name": "Python 3 (ipykernel)",
   "language": "python",
   "name": "python3"
  },
  "language_info": {
   "codemirror_mode": {
    "name": "ipython",
    "version": 3
   },
   "file_extension": ".py",
   "mimetype": "text/x-python",
   "name": "python",
   "nbconvert_exporter": "python",
   "pygments_lexer": "ipython3",
   "version": "3.11.5"
  }
 },
 "nbformat": 4,
 "nbformat_minor": 5
}
