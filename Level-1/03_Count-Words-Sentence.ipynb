{
 "cells": [
  {
   "cell_type": "markdown",
   "id": "980e8b11",
   "metadata": {},
   "source": [
    "# Count Words in a Sentence"
   ]
  },
  {
   "cell_type": "markdown",
   "id": "dc251935",
   "metadata": {},
   "source": [
    "# Project Description\n",
    "- This project involves creating a program that takes a sentence as input and counts the number of words in that sentence. \n",
    "- The program will also identify the longest word in the sentence."
   ]
  },
  {
   "cell_type": "code",
   "execution_count": 55,
   "id": "fa4eef9f",
   "metadata": {},
   "outputs": [
    {
     "name": "stdout",
     "output_type": "stream",
     "text": [
      "Enter a sentence : Today it is raining\n",
      "Number of words in the setence: 4\n",
      "The longest word in the sentence:  raining\n"
     ]
    }
   ],
   "source": [
    "def count_words_return_longest_word():\n",
    "    '''takes a sentence as input and counts the number of words and the longest word in the sentence.'''\n",
    "    txt = input(\"Enter a sentence : \")\n",
    "    words_list = txt.split()\n",
    "    print(f\"Number of words in the sentence: {len(words_list)}\")\n",
    "    result = sorted(words_list , key=lambda x: (len(x),x))\n",
    "    print(f\"The longest word in the sentence:  {result[-1]}\")\n",
    "\n",
    "count_words_return_longest_word()"
   ]
  }
 ],
 "metadata": {
  "kernelspec": {
   "display_name": "Python 3 (ipykernel)",
   "language": "python",
   "name": "python3"
  },
  "language_info": {
   "codemirror_mode": {
    "name": "ipython",
    "version": 3
   },
   "file_extension": ".py",
   "mimetype": "text/x-python",
   "name": "python",
   "nbconvert_exporter": "python",
   "pygments_lexer": "ipython3",
   "version": "3.11.5"
  }
 },
 "nbformat": 4,
 "nbformat_minor": 5
}
