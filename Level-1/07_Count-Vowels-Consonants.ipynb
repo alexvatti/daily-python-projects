{
 "cells": [
  {
   "cell_type": "markdown",
   "id": "4f32235e",
   "metadata": {},
   "source": [
    "# Algorithm to Count Vowels and Consonants in a String"
   ]
  },
  {
   "cell_type": "markdown",
   "id": "f088c046",
   "metadata": {},
   "source": [
    "## Project Description\n",
    "- This program defines a string, counts how many vowels and consonants are present, and displays both counts."
   ]
  },
  {
   "cell_type": "code",
   "execution_count": 97,
   "id": "093451f6",
   "metadata": {},
   "outputs": [
    {
     "name": "stdout",
     "output_type": "stream",
     "text": [
      "52\n",
      "The Number of vowels  is : 15\n",
      "The Number of consonants is : 28\n"
     ]
    }
   ],
   "source": [
    "def count_vowels_consonants_chars(txt):\n",
    "    '''counts how many vowels and consonants are present'''\n",
    "\n",
    "    vowels_cnt = 0\n",
    "    consonants_cnt = 0\n",
    "    for index in range(0,len(txt)):\n",
    "        vowels_cnt += 1 if txt[index].lower() in \"aeiou\" else 0\n",
    "        consonants_cnt += 1 if txt[index].lower()  in \"bcdfghjklmnpqrstvwxyz\" else 0\n",
    "    print(f\"The Number of vowels  is : {vowels_cnt}\")\n",
    "    print(f\"The Number of consonants is : {consonants_cnt}\")\n",
    "        \n",
    "        \n",
    "text = \"How many vowels and consonants are in this sentence?\"\n",
    "count_vowels_consonants_chars(text)"
   ]
  },
  {
   "cell_type": "code",
   "execution_count": null,
   "id": "ebb8cdc5",
   "metadata": {},
   "outputs": [],
   "source": []
  }
 ],
 "metadata": {
  "kernelspec": {
   "display_name": "Python 3 (ipykernel)",
   "language": "python",
   "name": "python3"
  },
  "language_info": {
   "codemirror_mode": {
    "name": "ipython",
    "version": 3
   },
   "file_extension": ".py",
   "mimetype": "text/x-python",
   "name": "python",
   "nbconvert_exporter": "python",
   "pygments_lexer": "ipython3",
   "version": "3.11.5"
  }
 },
 "nbformat": 4,
 "nbformat_minor": 5
}
