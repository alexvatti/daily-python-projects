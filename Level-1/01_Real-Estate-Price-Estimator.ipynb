{
 "cells": [
  {
   "cell_type": "markdown",
   "id": "23bdd6e4",
   "metadata": {},
   "source": [
    "# Real Estate Price Estimator"
   ]
  },
  {
   "cell_type": "markdown",
   "id": "f669c84f",
   "metadata": {},
   "source": [
    "## Project Description\n",
    "- This is a simple beginner project where the program estimates the price of a property based on  the size of the house (in square feet) and its location (city or suburb). The program will help practice basic Python concepts such as user input, conditional statements, and basic calculations."
   ]
  },
  {
   "cell_type": "markdown",
   "id": "b1edbe14",
   "metadata": {},
   "source": [
    "- The program starts by prompting the user to enter the square feet of the property:\n",
    "- Next, the program asks to enter “city” or “suburb”. If the user submits “city”, the program should use a price of 250 dollars per square foot. If they submit “suburb”, the program should use a price of 150 dollars per square foot.\n",
    "- After the user has submitted “city” or “suburb”, the program displays a message where it includes the estimated price for the given property"
   ]
  },
  {
   "cell_type": "code",
   "execution_count": 26,
   "id": "1f61cb0c",
   "metadata": {},
   "outputs": [
    {
     "name": "stdout",
     "output_type": "stream",
     "text": [
      "Enter the square feet of the property : 2000\n",
      "Enter the loation \"city\" or \"suburb\" : suburb\n",
      "Estimated price for the given property of 2000.0 in sq feet in suburb is $ 300,000.00\n"
     ]
    }
   ],
   "source": [
    "def estimate_property_price():\n",
    "    '''estimates the price of a property'''\n",
    "    size = eval(input(\"Enter the square feet of the property : \"))\n",
    "    location = input(\"Enter the loation \\\"city\\\" or \\\"suburb\\\" : \")\n",
    "    \n",
    "    price_sq_feet_city = 250\n",
    "    price_sq_feet_suburb = 150\n",
    "    \n",
    "    if location.lower() == \"city\":\n",
    "        print(f\"Estimated price for the given property of {size:.1f}\" \\\n",
    "              f\" in sq feet in city is $ {price_sq_feet_city*size:,.2f}\")\n",
    "    elif location.lower() == \"suburb\":\n",
    "        print(f\"Estimated price for the given property of {size:.1f}\" \\\n",
    "              f\" in sq feet in suburb is $ {price_sq_feet_suburb*size:,.2f}\")\n",
    "    else:\n",
    "        print(\"Invalid Input in selection of location - \\\n",
    "              valid locations \\\"city\\\" or \\\"suburb\\\" \")\n",
    "\n",
    "if __name__ == \"__main__\":\n",
    "    estimate_property_price()"
   ]
  }
 ],
 "metadata": {
  "kernelspec": {
   "display_name": "Python 3 (ipykernel)",
   "language": "python",
   "name": "python3"
  },
  "language_info": {
   "codemirror_mode": {
    "name": "ipython",
    "version": 3
   },
   "file_extension": ".py",
   "mimetype": "text/x-python",
   "name": "python",
   "nbconvert_exporter": "python",
   "pygments_lexer": "ipython3",
   "version": "3.11.5"
  }
 },
 "nbformat": 4,
 "nbformat_minor": 5
}
