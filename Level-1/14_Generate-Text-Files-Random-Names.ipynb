{
 "cells": [
  {
   "cell_type": "markdown",
   "id": "4f32235e",
   "metadata": {},
   "source": [
    "# Generate Text Files with Random Names"
   ]
  },
  {
   "cell_type": "markdown",
   "id": "f088c046",
   "metadata": {},
   "source": [
    "## Project Description\n",
    "- Your task for today is to create a Python program which generates a new text file every time you run it.\n",
    "\n",
    "- When you run the program, it should generate a new text file. The program assigns a random name of 10 characters to the text file and also writes that random text inside the text file as content."
   ]
  },
  {
   "cell_type": "code",
   "execution_count": 63,
   "id": "093451f6",
   "metadata": {},
   "outputs": [
    {
     "name": "stdout",
     "output_type": "stream",
     "text": [
      "blE7NQETjT\n"
     ]
    }
   ],
   "source": [
    "def generate_random_text():\n",
    "    '''Program assigns a random name of 10 characters to the text file and also writes that random text inside the text file as content.'''\n",
    "    import string,random\n",
    "    \n",
    "    random_txt = \"\"\n",
    "    for i in range(1,11):\n",
    "        random_txt += random.choice(string.ascii_letters + string.digits)\n",
    "    print(random_txt)\n",
    "    \n",
    "    with open(random_txt+\".txt\" ,\"w\") as f:\n",
    "        f.write(random_txt)\n",
    "        f.close()\n",
    "\n",
    "generate_random_text()"
   ]
  }
 ],
 "metadata": {
  "kernelspec": {
   "display_name": "Python 3 (ipykernel)",
   "language": "python",
   "name": "python3"
  },
  "language_info": {
   "codemirror_mode": {
    "name": "ipython",
    "version": 3
   },
   "file_extension": ".py",
   "mimetype": "text/x-python",
   "name": "python",
   "nbconvert_exporter": "python",
   "pygments_lexer": "ipython3",
   "version": "3.11.5"
  }
 },
 "nbformat": 4,
 "nbformat_minor": 5
}
