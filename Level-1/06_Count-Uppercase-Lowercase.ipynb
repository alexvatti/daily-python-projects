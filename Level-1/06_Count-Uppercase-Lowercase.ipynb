{
 "cells": [
  {
   "cell_type": "markdown",
   "id": "a17b34d7",
   "metadata": {},
   "source": [
    "# Count Uppercase and Lowercase Letters in String"
   ]
  },
  {
   "cell_type": "markdown",
   "id": "a5b94958",
   "metadata": {},
   "source": [
    "## Project Description\n",
    "- This program defines a string, counts how many uppercase and lowercase letters are present, and displays both counts"
   ]
  },
  {
   "cell_type": "code",
   "execution_count": 88,
   "id": "a9eb5760",
   "metadata": {},
   "outputs": [
    {
     "name": "stdout",
     "output_type": "stream",
     "text": [
      "The Number of lowercase letters is : 22\n",
      "The Number of uppercase letters is : 9\n"
     ]
    }
   ],
   "source": [
    "def count_uppercase_lowercase_chars(txt):\n",
    "    '''counts how many uppercase and lowercase letters are present'''\n",
    "    lower_case_cnt = 0\n",
    "    upper_case_cnt = 0\n",
    "    for index in range(0,len(txt)):\n",
    "        lower_case_cnt += 1 if txt[index].islower() else 0\n",
    "        upper_case_cnt += 1 if txt[index].isupper() else 0\n",
    "    print(f\"The Number of lowercase letters is : {lower_case_cnt}\")\n",
    "    print(f\"The Number of uppercase letters is : {upper_case_cnt}\")\n",
    "        \n",
    "        \n",
    "text = \"This Sentence Has Mixed CASE Letters!\"\n",
    "count_uppercase_lowercase_chars(text)"
   ]
  }
 ],
 "metadata": {
  "kernelspec": {
   "display_name": "Python 3 (ipykernel)",
   "language": "python",
   "name": "python3"
  },
  "language_info": {
   "codemirror_mode": {
    "name": "ipython",
    "version": 3
   },
   "file_extension": ".py",
   "mimetype": "text/x-python",
   "name": "python",
   "nbconvert_exporter": "python",
   "pygments_lexer": "ipython3",
   "version": "3.11.5"
  }
 },
 "nbformat": 4,
 "nbformat_minor": 5
}
