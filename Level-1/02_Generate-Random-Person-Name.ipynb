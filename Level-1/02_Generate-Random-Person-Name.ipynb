{
 "cells": [
  {
   "cell_type": "markdown",
   "id": "6d40ec95",
   "metadata": {},
   "source": [
    "# Generate Random Person Name"
   ]
  },
  {
   "cell_type": "markdown",
   "id": "672be557",
   "metadata": {},
   "source": [
    "# Project Description\n",
    "- Create a program that reads a list of names from a text file, randomly picks one, and displays it. \n",
    "- It's perfect for practicing file handling and working with lists in Python"
   ]
  },
  {
   "cell_type": "code",
   "execution_count": 48,
   "id": "57fb1c38",
   "metadata": {},
   "outputs": [
    {
     "name": "stdout",
     "output_type": "stream",
     "text": [
      "Randome Selected Name :  Rubi\n"
     ]
    }
   ],
   "source": [
    "def pick_random_person_name_from_file():\n",
    "    '''reads a list of names from a text file, randomly picks one, and displays it.'''\n",
    "    import random\n",
    "    with open (\"names123.txt\", \"r\") as  f:\n",
    "        names_list = f.read().split()\n",
    "        f.close()\n",
    "    return(random.choice(names_list))\n",
    "\n",
    "\n",
    "print(f\"Randome Selected Name : \", pick_random_person_name())"
   ]
  }
 ],
 "metadata": {
  "kernelspec": {
   "display_name": "Python 3 (ipykernel)",
   "language": "python",
   "name": "python3"
  },
  "language_info": {
   "codemirror_mode": {
    "name": "ipython",
    "version": 3
   },
   "file_extension": ".py",
   "mimetype": "text/x-python",
   "name": "python",
   "nbconvert_exporter": "python",
   "pygments_lexer": "ipython3",
   "version": "3.11.5"
  }
 },
 "nbformat": 4,
 "nbformat_minor": 5
}
