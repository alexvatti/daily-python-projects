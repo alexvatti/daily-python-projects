{
 "cells": [
  {
   "cell_type": "markdown",
   "id": "4f32235e",
   "metadata": {},
   "source": [
    "# Simple Text-Based Calculator with Python"
   ]
  },
  {
   "cell_type": "markdown",
   "id": "f088c046",
   "metadata": {},
   "source": [
    "## Project Description\n",
    "- Build a program that the user to input two numbers and an operation (addition, subtraction, multiplication, or division).\n",
    "- It performs the operation on the two numbers and displays the result."
   ]
  },
  {
   "cell_type": "code",
   "execution_count": 25,
   "id": "093451f6",
   "metadata": {},
   "outputs": [
    {
     "name": "stdout",
     "output_type": "stream",
     "text": [
      "Enter a first number : 30\n",
      "Enter a second number : 20\n",
      "Enter the operation(+ , - , * , /)  : +\n",
      "Addition of 30 and 20 is 50.0\n"
     ]
    }
   ],
   "source": [
    "def add(num1,num2):\n",
    "    return num1 + num2\n",
    "def sub(num1,num2):\n",
    "    return num1 - num2\n",
    "def mul(num1,num2):\n",
    "    return num1 * num2\n",
    "def div(num1,num2):\n",
    "    num1/num2\n",
    "    \n",
    "n = int(input(\"Enter a first number : \"))\n",
    "m = int(input(\"Enter a second number : \"))\n",
    "choice = input(\"Enter the operation(+ , - , * , /)  : \")\n",
    "\n",
    "if choice in \"+-*/\":\n",
    "    if choice == \"+\":\n",
    "        print(f\"Addition of {n} and {m} is {add(n,m):.1f}\")\n",
    "    elif choice == \"-\":\n",
    "        print(f\"Subtraction of {n} and {m} is {sub(n,m):.1f}\")\n",
    "    elif choice == \"*\":\n",
    "        print(f\"Multiplication of {n} and {m} is {mul(n,m):.1f}\")\n",
    "    elif choice == \"/\":\n",
    "        print(f\"Divison of {n} by {m} is {div(n,m):.1f}\")\n",
    "else:\n",
    "    print(\"Invalid choice\")"
   ]
  }
 ],
 "metadata": {
  "kernelspec": {
   "display_name": "Python 3 (ipykernel)",
   "language": "python",
   "name": "python3"
  },
  "language_info": {
   "codemirror_mode": {
    "name": "ipython",
    "version": 3
   },
   "file_extension": ".py",
   "mimetype": "text/x-python",
   "name": "python",
   "nbconvert_exporter": "python",
   "pygments_lexer": "ipython3",
   "version": "3.11.5"
  }
 },
 "nbformat": 4,
 "nbformat_minor": 5
}
