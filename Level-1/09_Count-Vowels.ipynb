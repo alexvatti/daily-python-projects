{
 "cells": [
  {
   "cell_type": "markdown",
   "id": "4f32235e",
   "metadata": {},
   "source": [
    "# Count Vowels in a String"
   ]
  },
  {
   "cell_type": "markdown",
   "id": "f088c046",
   "metadata": {},
   "source": [
    "## Project Description\n",
    "- This program defines a string and counts how many vowels (a, e, i, o, u) are present in that string. It then displays the count of vowels."
   ]
  },
  {
   "cell_type": "code",
   "execution_count": 1,
   "id": "093451f6",
   "metadata": {},
   "outputs": [
    {
     "name": "stdout",
     "output_type": "stream",
     "text": [
      "The Number of vowels  is : 13\n"
     ]
    }
   ],
   "source": [
    "def count_vowels_chars(txt):\n",
    "    '''counts how many vowels in string'''\n",
    "\n",
    "    vowels_cnt = 0\n",
    "    consonants_cnt = 0\n",
    "    for index in range(0,len(txt)):\n",
    "        vowels_cnt += 1 if txt[index].lower() in \"aeiou\" else 0\n",
    "\n",
    "    print(f\"The Number of vowels  is : {vowels_cnt}\")\n",
    "        \n",
    "        \n",
    "text = \"Hello, how many vowels are in this sentence?\"\n",
    "count_vowels_chars(text)"
   ]
  }
 ],
 "metadata": {
  "kernelspec": {
   "display_name": "Python 3 (ipykernel)",
   "language": "python",
   "name": "python3"
  },
  "language_info": {
   "codemirror_mode": {
    "name": "ipython",
    "version": 3
   },
   "file_extension": ".py",
   "mimetype": "text/x-python",
   "name": "python",
   "nbconvert_exporter": "python",
   "pygments_lexer": "ipython3",
   "version": "3.11.5"
  }
 },
 "nbformat": 4,
 "nbformat_minor": 5
}
