{
 "cells": [
  {
   "cell_type": "markdown",
   "id": "4f32235e",
   "metadata": {},
   "source": [
    "# Function That Checks Username Validity"
   ]
  },
  {
   "cell_type": "markdown",
   "id": "f088c046",
   "metadata": {},
   "source": [
    "## Project Description\n",
    "This program creates a function that checks whether a username is valid based on some simple rules. The function will take a username as input and return whether it is valid or not. The rules for a valid username are:\n",
    "\n",
    "1. The username must be between 5 and 15 characters.\n",
    "\n",
    "2. It must contain only alphanumeric characters (letters and numbers).\n",
    "\n",
    "3. It must start with a letter."
   ]
  },
  {
   "cell_type": "code",
   "execution_count": 12,
   "id": "093451f6",
   "metadata": {},
   "outputs": [
    {
     "data": {
      "text/plain": [
       "'Valid user name: Hel1124'"
      ]
     },
     "execution_count": 12,
     "metadata": {},
     "output_type": "execute_result"
    }
   ],
   "source": [
    "def check_username_validity(usr_name):\n",
    "    '''checks whether a username is valid'''\n",
    "\n",
    "    if len(usr_name) >= 5 and len(usr_name) <= 15: \n",
    "        if usr_name[0].isalpha():\n",
    "            for i in range(0,len(usr_name)):\n",
    "                if usr_name[i].isalnum():\n",
    "                    pass\n",
    "                else:\n",
    "                    return f\"Invalid user name:{usr_name} , it contiains other than alphanumric\"\n",
    "            return f\"Valid user name: {usr_name}\"\n",
    "        else:\n",
    "            return f\"Invalid user name: {usr_name}, it did not start with character\"\n",
    "    else:\n",
    "        return f\"Invalid user name:  {usr_name} , it did not satify the length(5-15) condition\"\n",
    "\n",
    "        \n",
    "text = \"Hel1124\"\n",
    "check_username_validity(text)"
   ]
  }
 ],
 "metadata": {
  "kernelspec": {
   "display_name": "Python 3 (ipykernel)",
   "language": "python",
   "name": "python3"
  },
  "language_info": {
   "codemirror_mode": {
    "name": "ipython",
    "version": 3
   },
   "file_extension": ".py",
   "mimetype": "text/x-python",
   "name": "python",
   "nbconvert_exporter": "python",
   "pygments_lexer": "ipython3",
   "version": "3.11.5"
  }
 },
 "nbformat": 4,
 "nbformat_minor": 5
}
